{
 "cells": [
  {
   "cell_type": "code",
   "execution_count": 16,
   "metadata": {},
   "outputs": [],
   "source": [
    "import requests\n",
    "import pandas as pd\n",
    "from bs4 import BeautifulSoup\n",
    "from dotenv import load_dotenv\n",
    "load_dotenv('sendgrid.env')\n",
    "import os\n",
    "import datetime\n",
    "from datetime import date"
   ]
  },
  {
   "cell_type": "code",
   "execution_count": 18,
   "metadata": {},
   "outputs": [],
   "source": [
    "def data_from_row(row):\n",
    "    row_data = {}\n",
    "    for cell in row.select('td'):\n",
    "        row_data[cell['headers'][0]] = cell.text\n",
    "    return row_data\n",
    "\n",
    "def retrieve_page(page_index,params):\n",
    "    url = 'https://ocrcas.ed.gov/open-investigations?' + '&'.join([k + '=' + str(v) for k, v in zip(params.keys(),params.values())]) + f'&page={page_index}'\n",
    "    response = requests.get(url)\n",
    "    soup = BeautifulSoup(response.text)\n",
    "    return soup\n",
    "\n",
    "def page_has_data(page):\n",
    "    return len(page.select('table')) > 0\n",
    "\n",
    "def scrape_page(page):\n",
    "    table = page.select('table')[0].select('tbody')[0]\n",
    "    df = pd.DataFrame([data_from_row(row) for row in table.select('tr')])\n",
    "    return df"
   ]
  },
  {
   "cell_type": "code",
   "execution_count": 14,
   "metadata": {},
   "outputs": [],
   "source": [
    "params = {\n",
    "    'field_ois_state':'All',\n",
    "    'field_ois_discrimination_statute':'All',\n",
    "    'field_ois_type_of_discrimination':'All',\n",
    "    'items_per_page':20,\n",
    "    'field_ois_institution':'',\n",
    "    'field_ois_institution_type':752,\n",
    "    'field_open_investigation_date_1':str(date.today() - datetime.timedelta(days=7)),\n",
    "    'field_open_investigation_date_2':str(date.today()),\n",
    "    'field_open_investigation_date':'',\n",
    "    'field_open_investigation_date_3':'',\n",
    "}"
   ]
  },
  {
   "cell_type": "code",
   "execution_count": 19,
   "metadata": {},
   "outputs": [],
   "source": [
    "tables = []\n",
    "for i in range(0,99999999):\n",
    "    page = retrieve_page(i,params)\n",
    "    if page_has_data(page):\n",
    "        tables.append(scrape_page(page))\n",
    "    else:\n",
    "        break\n",
    "df = pd.concat(tables)"
   ]
  },
  {
   "cell_type": "code",
   "execution_count": 22,
   "metadata": {},
   "outputs": [],
   "source": [
    "df.columns = ['STATE','INST','INST_TYPE','DISCRIMINATION_TYPE','INVEST_START_DATES']"
   ]
  },
  {
   "cell_type": "code",
   "execution_count": 25,
   "metadata": {},
   "outputs": [],
   "source": [
    "df = df[['STATE','INST','DISCRIMINATION_TYPE','INVEST_START_DATES']]\n",
    "for col in ['STATE','INST','DISCRIMINATION_TYPE']:\n",
    "    df[col] = df[col].str.strip()"
   ]
  },
  {
   "cell_type": "code",
   "execution_count": 97,
   "metadata": {},
   "outputs": [],
   "source": [
    "df.to_csv('../data/investigations_all.csv')"
   ]
  },
  {
   "cell_type": "code",
   "execution_count": null,
   "metadata": {},
   "outputs": [],
   "source": [
    "# using SendGrid's Python Library\n",
    "# https://github.com/sendgrid/sendgrid-python\n",
    "import os\n",
    "from sendgrid import SendGridAPIClient\n",
    "from sendgrid.helpers.mail import Mail\n",
    "\n",
    "message = Mail(\n",
    "    from_email='declan@declanrjb.com',\n",
    "    to_emails='dbradley@chronicle.com',\n",
    "    subject=f'{len(df[\"INST\"])} DoE investigations opened last week',\n",
    "    html_content=f'<p>Investigations spanned {len(df[\"INST\"].unique())} institutions in {len(df[\"STATE\"].unique())} states.</p><br>{df.to_html()}')\n",
    "try:\n",
    "    sg = SendGridAPIClient(os.environ.get('SENDGRID_API_KEY'))\n",
    "    sg.send(message)\n",
    "except Exception as e:\n",
    "    print(e.message)"
   ]
  }
 ],
 "metadata": {
  "kernelspec": {
   "display_name": "Python 3",
   "language": "python",
   "name": "python3"
  },
  "language_info": {
   "codemirror_mode": {
    "name": "ipython",
    "version": 3
   },
   "file_extension": ".py",
   "mimetype": "text/x-python",
   "name": "python",
   "nbconvert_exporter": "python",
   "pygments_lexer": "ipython3",
   "version": "3.9.6"
  }
 },
 "nbformat": 4,
 "nbformat_minor": 2
}
